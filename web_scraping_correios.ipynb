{
 "cells": [
  {
   "cell_type": "code",
   "execution_count": null,
   "id": "8c34ec5f-b7cb-4f75-a4ae-8c96ab089162",
   "metadata": {},
   "outputs": [],
   "source": [
    "from pyspark.sql import SparkSession\n",
    "from selenium import webdriver\n",
    "from selenium.webdriver.chrome.service import Service\n",
    "from selenium.webdriver.common.by import By\n",
    "import time\n",
    "import os"
   ]
  },
  {
   "cell_type": "code",
   "execution_count": null,
   "id": "a2cc6055-60e6-4532-adc8-864d0f26d56f",
   "metadata": {},
   "outputs": [],
   "source": [
    "def init_spark_session(app_name='Web Scraping Correios'):\n",
    "    \"\"\"\n",
    "    Inicializa e configura uma sessão Spark.\n",
    "    \"\"\"\n",
    "    return (SparkSession.builder.appName(app_name)\n",
    "            .config('spark.sql.repl.eagerEval.enabled', True)\n",
    "            .config('spark.sql.repl.eagerEval.truncate', 100)\n",
    "            .config('spark.sql.repl.eagerEval.maxNumRows', 200)\n",
    "            .getOrCreate())"
   ]
  },
  {
   "cell_type": "code",
   "execution_count": null,
   "id": "a4606a84-d665-4ea7-bd58-6810d6ac0128",
   "metadata": {},
   "outputs": [],
   "source": [
    "def init_webdriver():\n",
    "    \"\"\"\n",
    "    Inicializa e configura o WebDriver do Chrome.\n",
    "    \"\"\"\n",
    "    service = Service()\n",
    "    options = webdriver.ChromeOptions()\n",
    "    return webdriver.Chrome(service=service, options=options)"
   ]
  },
  {
   "cell_type": "code",
   "execution_count": null,
   "id": "137a2502-100c-47a5-bf72-4ca25d193aa4",
   "metadata": {},
   "outputs": [],
   "source": [
    "def get_select_options_by_value(driver, by_method, selector):\n",
    "    \"\"\"\n",
    "    Obtém as opções de um elemento select na página.\n",
    "    \"\"\"\n",
    "    select_element = driver.find_element(by_method, selector)\n",
    "    return [option for option in select_element.find_elements(By.TAG_NAME, \"option\") if option.get_attribute('value')]"
   ]
  },
  {
   "cell_type": "code",
   "execution_count": null,
   "id": "3ce21315-d627-433d-962f-504a1fbf71a5",
   "metadata": {},
   "outputs": [],
   "source": [
    "def process_state(driver, state, spark):\n",
    "    \"\"\"\n",
    "    Processa um estado específico, coletando os dados de agências dos Correios.\n",
    "    \"\"\"\n",
    "    print(f'Estado {state} iniciou o processamento.')\n",
    "    time.sleep(2)\n",
    "\n",
    "    data = []\n",
    "    municipalities = get_select_options_by_value(driver, By.XPATH, '//*[@id=\"cmbMunicipio\"]')\n",
    "\n",
    "    for municipality in municipalities:\n",
    "        time.sleep(1)\n",
    "        municipality.click()\n",
    "        municipality = municipality.get_attribute('value')\n",
    "        time.sleep(2)\n",
    "\n",
    "        districts = get_select_options_by_value(driver, By.XPATH, '//*[@id=\"cmbBairro\"]')\n",
    "        for district in districts:\n",
    "            time.sleep(1)\n",
    "            district.click()\n",
    "            district = district.get_attribute('value')\n",
    "            time.sleep(2)\n",
    "\n",
    "            addresses = driver.find_elements(By.CLASS_NAME, 'odd')\n",
    "            for address in addresses:\n",
    "                data.append(extract_agency_data(address, state, municipality, district))\n",
    "\n",
    "    # Converte os dados em DataFrame e salva em arquivo CSV\n",
    "    save_data_to_csv(data, state, spark)\n",
    "    print(f'Estado {state} finalizado!\\n')"
   ]
  },
  {
   "cell_type": "code",
   "execution_count": null,
   "id": "31f38438-d6ea-4465-a21a-543d265e89b4",
   "metadata": {},
   "outputs": [],
   "source": [
    "def extract_agency_data(address, state, municipality, district):\n",
    "    \"\"\"\n",
    "    Extrai os dados de uma agência, incluindo nome, endereço, número, etc.\n",
    "    \"\"\"\n",
    "    agency_name = get_text_or_default(address, 'nome-agencia')\n",
    "    agency_address = get_text_or_default(address, 'endereco-agencia')\n",
    "    number = extract_number_from_address(agency_address)\n",
    "    google_maps_link, lat, long = get_google_maps_info(address)\n",
    "    cep = get_cep_from_address(address)\n",
    "\n",
    "    return {\n",
    "        \"estado\": state,\n",
    "        \"municipio\": municipality,\n",
    "        \"bairro\": district,\n",
    "        \"endereco\": agency_address,\n",
    "        \"numero\": number,\n",
    "        \"cep\": cep,\n",
    "        \"nome_agencia\": agency_name,\n",
    "        \"latitude\": lat,\n",
    "        \"longitude\": long,\n",
    "        \"google_maps_link\": google_maps_link\n",
    "    }"
   ]
  },
  {
   "cell_type": "code",
   "execution_count": null,
   "id": "0de5211f-a72f-417f-9243-16c1a3c19e7d",
   "metadata": {},
   "outputs": [],
   "source": [
    "def get_text_or_default(element, class_name, default_value='Vazio'):\n",
    "    \"\"\"\n",
    "    Retorna o texto de um elemento ou um valor padrão caso o texto não exista.\n",
    "    \"\"\"\n",
    "    try:\n",
    "        return element.find_element(By.CLASS_NAME, class_name).text\n",
    "    except:\n",
    "        return default_value"
   ]
  },
  {
   "cell_type": "code",
   "execution_count": null,
   "id": "0855ccb6-8cd9-46fe-a3dd-469a0653b53b",
   "metadata": {},
   "outputs": [],
   "source": [
    "def extract_number_from_address(address):\n",
    "    \"\"\"\n",
    "    Separa o logradouro e o número do endereço.\n",
    "    \"\"\"\n",
    "    try:\n",
    "        address_split = address.split(', ')\n",
    "        if len(address_split) == 2:\n",
    "            return address_split[1]  # Retorna o número\n",
    "        else:\n",
    "            return ''  # Caso não haja número\n",
    "    except:\n",
    "        return ''"
   ]
  },
  {
   "cell_type": "code",
   "execution_count": null,
   "id": "ba300e39-1981-4904-acbd-1cd400d4daf7",
   "metadata": {},
   "outputs": [],
   "source": [
    "def get_google_maps_info(address):\n",
    "    \"\"\"\n",
    "    Extrai as informações de latitude, longitude e link do Google Maps.\n",
    "    \"\"\"\n",
    "    try:\n",
    "        tag_a = address.find_elements(By.TAG_NAME, 'a')\n",
    "        for a in tag_a:\n",
    "            try:\n",
    "                google_maps_link = a.get_attribute('href')\n",
    "                lat_long = google_maps_link.split('daddr=')[1].split(',')\n",
    "                lat = lat_long[0]\n",
    "                long = lat_long[1]\n",
    "                return google_maps_link, lat, long\n",
    "            except:\n",
    "                continue\n",
    "        return 'vazio', 'vazio', 'vazio'\n",
    "    except:\n",
    "        return 'vazio', 'vazio', 'vazio'"
   ]
  },
  {
   "cell_type": "code",
   "execution_count": null,
   "id": "0685229f-bf24-466a-b6aa-864a8fd46547",
   "metadata": {},
   "outputs": [],
   "source": [
    "def get_cep_from_address(address):\n",
    "    \"\"\"\n",
    "    Extrai o CEP da agência, caso disponível.\n",
    "    \"\"\"\n",
    "    try:\n",
    "        info_button = address.find_element(By.XPATH, './/img[starts-with(@id, \"info_\")]')\n",
    "        if 'abre_info' in info_button.get_attribute('src'):\n",
    "            info_button.click()\n",
    "        \n",
    "        time.sleep(2)\n",
    "        cep = driver.find_element(By.CLASS_NAME, 'mostra_detalhe')\n",
    "        cep = cep.find_elements(By.CLASS_NAME, 'sombreado')[2].text\n",
    "        return cep.split('CEP: ')[1]\n",
    "    except:\n",
    "        return 'Vazio'"
   ]
  },
  {
   "cell_type": "code",
   "execution_count": null,
   "id": "779f5709-17cf-467c-94ca-f8eab429d1a9",
   "metadata": {},
   "outputs": [],
   "source": [
    "def save_data_to_csv(data, state, spark):\n",
    "    \"\"\"\n",
    "    Converte a lista de dados para DataFrame do Spark e salva em arquivo CSV.\n",
    "    \"\"\"\n",
    "    df = spark.createDataFrame(data).select(\n",
    "        \"estado\", \"municipio\", \"bairro\", \"endereco\", \"numero\", \"cep\", \"nome_agencia\", \"latitude\", \"longitude\", \"google_maps_link\"\n",
    "    )\n",
    "    \n",
    "    full_output_dir = f'{output_dir}/{state}'\n",
    "    \n",
    "    if not os.path.exists(full_output_dir):\n",
    "        os.makedirs(full_output_dir)\n",
    "\n",
    "    df.coalesce(1).write.csv(os.path.join(full_output_dir), mode='overwrite', header=True, encoding='utf-8')\n",
    "    print(f'DataFrame salvo com sucesso em {full_output_dir}\\n')"
   ]
  },
  {
   "cell_type": "code",
   "execution_count": null,
   "id": "7b2e3222-6099-45fb-8a56-707c6ae3b79d",
   "metadata": {},
   "outputs": [],
   "source": [
    "def main():\n",
    "    \"\"\"\n",
    "    Função principal que executa o scraping para todos os estados.\n",
    "    \"\"\"\n",
    "    # Inicializa as sessões Spark e WebDriver\n",
    "    spark = init_spark_session()\n",
    "    driver = init_webdriver()\n",
    "\n",
    "    # Acessa a URL dos Correios\n",
    "    url = \"https://mais.correios.com.br/app/index.php\"\n",
    "    driver.get(url)\n",
    "\n",
    "    # Obtém os estados e inicia o processamento\n",
    "    select_element = driver.find_element(By.XPATH, '//*[@id=\"cmbEstado\"]')\n",
    "    states = select_element.find_elements(By.TAG_NAME, \"option\")[1:None]\n",
    "    \n",
    "    for state in states:\n",
    "        state_value = state.get_attribute('value')\n",
    "        time.sleep(1)\n",
    "        state.click()\n",
    "        process_state(driver, state_value, spark)\n",
    "\n",
    "    print('Processamento finalizado!')\n",
    "    driver.quit()"
   ]
  },
  {
   "cell_type": "markdown",
   "id": "bbbcc761-75dc-4c71-84a0-097943d0563a",
   "metadata": {},
   "source": [
    "## MAIN"
   ]
  },
  {
   "cell_type": "code",
   "execution_count": null,
   "id": "8b9d20ea-d790-4f24-b6a7-853dea9b7bca",
   "metadata": {},
   "outputs": [],
   "source": [
    "# Define o diretório onde os arquivos serão salvos\n",
    "output_dir = 'data_warehouse/enderecos_correios'"
   ]
  },
  {
   "cell_type": "code",
   "execution_count": null,
   "id": "97e0614f-5b71-43be-8fda-1d6c63ec65c5",
   "metadata": {},
   "outputs": [],
   "source": [
    "main()"
   ]
  }
 ],
 "metadata": {
  "kernelspec": {
   "display_name": "Python 3 (ipykernel)",
   "language": "python",
   "name": "python3"
  },
  "language_info": {
   "codemirror_mode": {
    "name": "ipython",
    "version": 3
   },
   "file_extension": ".py",
   "mimetype": "text/x-python",
   "name": "python",
   "nbconvert_exporter": "python",
   "pygments_lexer": "ipython3",
   "version": "3.11.7"
  }
 },
 "nbformat": 4,
 "nbformat_minor": 5
}
